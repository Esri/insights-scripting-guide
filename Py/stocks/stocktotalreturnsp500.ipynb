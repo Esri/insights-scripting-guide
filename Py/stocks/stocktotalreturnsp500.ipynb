{
 "cells": [
  {
   "cell_type": "code",
   "execution_count": 1,
   "metadata": {},
   "outputs": [
    {
     "name": "stdout",
     "output_type": "stream",
     "text": [
      "Requirement already satisfied: pandas_datareader in /Users/jon6671/anaconda3/lib/python3.7/site-packages (0.7.0)\n",
      "Requirement already satisfied: pandas>=0.19.2 in /Users/jon6671/anaconda3/lib/python3.7/site-packages (from pandas_datareader) (0.24.2)\n",
      "Requirement already satisfied: wrapt in /Users/jon6671/anaconda3/lib/python3.7/site-packages (from pandas_datareader) (1.11.1)\n",
      "Requirement already satisfied: requests>=2.3.0 in /Users/jon6671/anaconda3/lib/python3.7/site-packages (from pandas_datareader) (2.21.0)\n",
      "Requirement already satisfied: lxml in /Users/jon6671/anaconda3/lib/python3.7/site-packages (from pandas_datareader) (4.3.2)\n",
      "Requirement already satisfied: numpy>=1.12.0 in /Users/jon6671/anaconda3/lib/python3.7/site-packages (from pandas>=0.19.2->pandas_datareader) (1.16.2)\n",
      "Requirement already satisfied: python-dateutil>=2.5.0 in /Users/jon6671/anaconda3/lib/python3.7/site-packages (from pandas>=0.19.2->pandas_datareader) (2.8.0)\n",
      "Requirement already satisfied: pytz>=2011k in /Users/jon6671/anaconda3/lib/python3.7/site-packages (from pandas>=0.19.2->pandas_datareader) (2018.9)\n",
      "Requirement already satisfied: urllib3<1.25,>=1.21.1 in /Users/jon6671/anaconda3/lib/python3.7/site-packages (from requests>=2.3.0->pandas_datareader) (1.24.1)\n",
      "Requirement already satisfied: chardet<3.1.0,>=3.0.2 in /Users/jon6671/anaconda3/lib/python3.7/site-packages (from requests>=2.3.0->pandas_datareader) (3.0.4)\n",
      "Requirement already satisfied: idna<2.9,>=2.5 in /Users/jon6671/anaconda3/lib/python3.7/site-packages (from requests>=2.3.0->pandas_datareader) (2.8)\n",
      "Requirement already satisfied: certifi>=2017.4.17 in /Users/jon6671/anaconda3/lib/python3.7/site-packages (from requests>=2.3.0->pandas_datareader) (2019.3.9)\n",
      "Requirement already satisfied: six>=1.5 in /Users/jon6671/anaconda3/lib/python3.7/site-packages (from python-dateutil>=2.5.0->pandas>=0.19.2->pandas_datareader) (1.12.0)\n",
      "Requirement already satisfied: plotly in /Users/jon6671/anaconda3/lib/python3.7/site-packages (4.0.0)\n",
      "Requirement already satisfied: retrying>=1.3.3 in /Users/jon6671/anaconda3/lib/python3.7/site-packages (from plotly) (1.3.3)\n",
      "Requirement already satisfied: six in /Users/jon6671/anaconda3/lib/python3.7/site-packages (from plotly) (1.12.0)\n",
      "Requirement already satisfied: xlrd in /Users/jon6671/anaconda3/lib/python3.7/site-packages (1.2.0)\n",
      "Requirement already up-to-date: yfinance in /Users/jon6671/anaconda3/lib/python3.7/site-packages (0.1.43)\n",
      "Requirement already satisfied, skipping upgrade: requests>=2.20 in /Users/jon6671/anaconda3/lib/python3.7/site-packages (from yfinance) (2.21.0)\n",
      "Requirement already satisfied, skipping upgrade: multitasking>=0.0.7 in /Users/jon6671/anaconda3/lib/python3.7/site-packages (from yfinance) (0.0.9)\n",
      "Requirement already satisfied, skipping upgrade: pandas>=0.24 in /Users/jon6671/anaconda3/lib/python3.7/site-packages (from yfinance) (0.24.2)\n",
      "Requirement already satisfied, skipping upgrade: numpy>=1.15 in /Users/jon6671/anaconda3/lib/python3.7/site-packages (from yfinance) (1.16.2)\n",
      "Requirement already satisfied, skipping upgrade: chardet<3.1.0,>=3.0.2 in /Users/jon6671/anaconda3/lib/python3.7/site-packages (from requests>=2.20->yfinance) (3.0.4)\n",
      "Requirement already satisfied, skipping upgrade: urllib3<1.25,>=1.21.1 in /Users/jon6671/anaconda3/lib/python3.7/site-packages (from requests>=2.20->yfinance) (1.24.1)\n",
      "Requirement already satisfied, skipping upgrade: idna<2.9,>=2.5 in /Users/jon6671/anaconda3/lib/python3.7/site-packages (from requests>=2.20->yfinance) (2.8)\n",
      "Requirement already satisfied, skipping upgrade: certifi>=2017.4.17 in /Users/jon6671/anaconda3/lib/python3.7/site-packages (from requests>=2.20->yfinance) (2019.3.9)\n",
      "Requirement already satisfied, skipping upgrade: pytz>=2011k in /Users/jon6671/anaconda3/lib/python3.7/site-packages (from pandas>=0.24->yfinance) (2018.9)\n",
      "Requirement already satisfied, skipping upgrade: python-dateutil>=2.5.0 in /Users/jon6671/anaconda3/lib/python3.7/site-packages (from pandas>=0.24->yfinance) (2.8.0)\n",
      "Requirement already satisfied, skipping upgrade: six>=1.5 in /Users/jon6671/anaconda3/lib/python3.7/site-packages (from python-dateutil>=2.5.0->pandas>=0.24->yfinance) (1.12.0)\n"
     ]
    },
    {
     "data": {
      "text/html": [
       "        <script type=\"text/javascript\">\n",
       "        window.PlotlyConfig = {MathJaxConfig: 'local'};\n",
       "        if (window.MathJax) {MathJax.Hub.Config({SVG: {font: \"STIX-Web\"}});}\n",
       "        if (typeof require !== 'undefined') {\n",
       "        require.undef(\"plotly\");\n",
       "        requirejs.config({\n",
       "            paths: {\n",
       "                'plotly': ['https://cdn.plot.ly/plotly-latest.min']\n",
       "            }\n",
       "        });\n",
       "        require(['plotly'], function(Plotly) {\n",
       "            window._Plotly = Plotly;\n",
       "        });\n",
       "        }\n",
       "        </script>\n",
       "        "
      ]
     },
     "metadata": {},
     "output_type": "display_data"
    },
    {
     "name": "stdout",
     "output_type": "stream",
     "text": [
      "[*********************100%***********************]  1 of 1 downloaded\n",
      "[*********************100%***********************]  1 of 1 downloaded\n",
      "[*********************100%***********************]  1 of 1 downloaded\n",
      "[*********************100%***********************]  1 of 1 downloaded\n",
      "[*********************100%***********************]  1 of 1 downloaded\n",
      "[*********************100%***********************]  1 of 1 downloaded\n",
      "[*********************100%***********************]  1 of 1 downloaded\n",
      "[*********************100%***********************]  1 of 1 downloaded\n",
      "[*********************100%***********************]  1 of 1 downloaded\n"
     ]
    }
   ],
   "source": [
    "! pip install pandas_datareader\n",
    "! pip install plotly\n",
    "! pip install xlrd\n",
    "! pip install yfinance --upgrade --no-cache-dir\n",
    "import datetime\n",
    "import pandas as pd\n",
    "import numpy as np\n",
    "import yfinance as yf\n",
    "import matplotlib.pyplot as plt\n",
    "import plotly.graph_objs as go\n",
    "import pandas_datareader.data as pdr\n",
    "from plotly.offline import download_plotlyjs, init_notebook_mode, plot, iplot\n",
    "\n",
    "init_notebook_mode(connected=True)\n",
    "%matplotlib inline\n",
    "\n",
    "\n",
    "def get_stock(tickers, start_date, end_date):\n",
    "    def data(ticker):\n",
    "        return pdr.get_data_yahoo(ticker, start=start_date, end=end_date)\n",
    "\n",
    "    data_set = map(data, tickers)\n",
    "    return pd.concat(data_set, keys=tickers, names=[\"Ticker\", \"Date\"])\n",
    "\n",
    "\n",
    "portfolio_df = pd.read_excel(\"sp500.xlsx\")\n",
    "start_sp = datetime.datetime(2013, 1, 1)\n",
    "end_sp = datetime.datetime(2018, 3, 9)\n",
    "end_of_year = datetime.datetime(2017, 12, 29)\n",
    "yf.pdr_override()\n",
    "sp500 = pdr.get_data_yahoo(\"^GSPC\", start_sp, end_sp)\n",
    "sp_500_adj_close = sp500[[\"Adj Close\"]].reset_index()\n",
    "sp_500_adj_close_start = sp_500_adj_close[sp_500_adj_close[\"Date\"] == end_of_year]\n",
    "tickers = portfolio_df[\"Ticker\"].unique()\n",
    "\n",
    "all_data = get_stock(tickers, start_sp, end_sp)\n",
    "adj_close = all_data[[\"Adj Close\"]].reset_index()\n",
    "adj_close_start = adj_close[adj_close[\"Date\"] == end_of_year]\n",
    "adj_close_latest = adj_close[adj_close[\"Date\"] == end_sp]\n",
    "adj_close_latest.set_index(\"Ticker\", inplace=True)\n",
    "portfolio_df.set_index([\"Ticker\"], inplace=True)\n",
    "merge_folio = pd.merge(portfolio_df, adj_close_latest, left_index=True, right_index=True)\n",
    "merge_folio[\"ticker return\"] = merge_folio[\"Adj Close\"] / merge_folio[\"Unit Cost\"] - 1\n",
    "merge_folio.reset_index(inplace=True)\n",
    "merge_folio_sp = pd.merge(merge_folio, sp_500_adj_close, left_on=\"Acquisition Date\", right_on=\"Date\")\n",
    "del merge_folio_sp[\"Date_y\"]\n",
    "\n",
    "merge_folio_sp.rename(columns={\"Date_x\": \"Latest Date\", \"Adj Close_x\": \"Ticker Adj Close\",\n",
    "                               \"Adj Close_y\": \"SP 500 Initial Close\"}, inplace=True)\n",
    "merge_folio_sp[\"Equiv SP Shares\"] = merge_folio_sp[\"Cost Basis\"] / merge_folio_sp[\"SP 500 Initial Close\"]\n",
    "merge_folio_sp_lat = pd.merge(merge_folio_sp, sp_500_adj_close, left_on=\"Latest Date\", right_on=\"Date\")\n",
    "del merge_folio_sp_lat[\"Date\"]\n",
    "\n",
    "merge_folio_sp_lat.rename(columns={\"Adj Close\": \"SP 500 Latest Close\"}, inplace=True)\n",
    "merge_folio_sp_lat[\"SP Return\"] = merge_folio_sp_lat[\"SP 500 Latest Close\"] / \\\n",
    "                                  merge_folio_sp_lat[\"SP 500 Initial Close\"] - 1\n",
    "merge_folio_sp_lat[\"Abs Return Compare\"] = merge_folio_sp_lat[\"ticker return\"] - \\\n",
    "                                           merge_folio_sp_lat[\"SP Return\"]\n",
    "merge_folio_sp_lat[\"Ticker Share Value\"] = merge_folio_sp_lat[\"Quantity\"] * \\\n",
    "                                           merge_folio_sp_lat[\"Ticker Adj Close\"]\n",
    "merge_folio_sp_lat[\"SP 500 Value\"] = merge_folio_sp_lat[\"Equiv SP Shares\"] * \\\n",
    "                                     merge_folio_sp_lat[\"SP 500 Latest Close\"]\n",
    "merge_folio_sp_lat[\"Abs Value Compare\"] = merge_folio_sp_lat[\"Ticker Share Value\"] - \\\n",
    "                                          merge_folio_sp_lat[\"SP 500 Value\"]\n",
    "merge_folio_sp_lat[\"Stock Gain / Loss\"] = merge_folio_sp_lat[\"Ticker Share Value\"] - \\\n",
    "                                          merge_folio_sp_lat[\"Cost Basis\"]\n",
    "merge_folio_sp_lat[\"SP 500 Gain / Loss\"] = merge_folio_sp_lat[\"SP 500 Value\"] - \\\n",
    "                                           merge_folio_sp_lat[\"Cost Basis\"]\n",
    "\n",
    "merge_folio_sp_lat_YTD = pd.merge(merge_folio_sp_lat, adj_close_start, on=\"Ticker\")\n",
    "del merge_folio_sp_lat_YTD[\"Date\"]\n",
    "merge_folio_sp_lat_YTD.rename(columns={\"Adj Close\": \"Ticker Start Year Close\"}, inplace=True)\n",
    "merge_folio_sp_lat_YTD_sp = pd.merge(merge_folio_sp_lat_YTD,\n",
    "                                     sp_500_adj_close_start,\n",
    "                                     left_on=\"Start of Year\", right_on=\"Date\")\n",
    "del merge_folio_sp_lat_YTD_sp[\"Date\"]\n",
    "merge_folio_sp_lat_YTD_sp.rename(columns={\"Adj Close\": \"SP Start Year Close\"}, inplace=True)\n",
    "merge_folio_sp_lat_YTD_sp[\"Share YTD\"] = merge_folio_sp_lat_YTD_sp[\"Ticker Adj Close\"] / \\\n",
    "                                         merge_folio_sp_lat_YTD_sp[\"Ticker Start Year Close\"] - 1\n",
    "merge_folio_sp_lat_YTD_sp[\"SP 500 YTD\"] = merge_folio_sp_lat_YTD_sp[\"SP 500 Latest Close\"] / \\\n",
    "                                          merge_folio_sp_lat_YTD_sp[\"SP Start Year Close\"] - 1\n",
    "merge_folio_sp_lat_YTD_sp = merge_folio_sp_lat_YTD_sp.sort_values(by=\"Ticker\", ascending=True)\n",
    "merge_folio_sp_lat_YTD_sp[\"Cum Invst\"] = merge_folio_sp_lat_YTD_sp[\"Cost Basis\"].cumsum()\n",
    "merge_folio_sp_lat_YTD_sp[\"Cum Ticker Returns\"] = merge_folio_sp_lat_YTD_sp[\"Ticker Share Value\"].cumsum()\n",
    "merge_folio_sp_lat_YTD_sp[\"Cum SP Returns\"] = merge_folio_sp_lat_YTD_sp[\"SP 500 Value\"].cumsum()\n",
    "merge_folio_sp_lat_YTD_sp[\"Cum Ticker ROI Mult\"] = merge_folio_sp_lat_YTD_sp[\"Cum Ticker Returns\"] / \\\n",
    "                                                   merge_folio_sp_lat_YTD_sp[\"Cum Invst\"]\n",
    "\n",
    "portfolio_df.reset_index(inplace=True)\n",
    "adj_close_acq_date = pd.merge(adj_close, portfolio_df, on=\"Ticker\")\n",
    "del adj_close_acq_date[\"Quantity\"]\n",
    "del adj_close_acq_date[\"Unit Cost\"]\n",
    "del adj_close_acq_date[\"Cost Basis\"]\n",
    "del adj_close_acq_date[\"Start of Year\"]\n",
    "adj_close_acq_date.sort_values(by=[\"Ticker\", \"Acquisition Date\", \"Date\"], ascending=[True, True, True], inplace=True)\n",
    "adj_close_acq_date[\"Date Delta\"] = adj_close_acq_date[\"Date\"] - adj_close_acq_date[\"Acquisition Date\"]\n",
    "adj_close_acq_date[\"Date Delta\"] = adj_close_acq_date[[\"Date Delta\"]].apply(pd.to_numeric)\n",
    "adj_close_acq_date_modified = adj_close_acq_date[adj_close_acq_date[\"Date Delta\"] >= 0]\n",
    "\n",
    "adj_close_pivot = adj_close_acq_date_modified.pivot_table(index=[\"Ticker\", \"Acquisition Date\"], values=\"Adj Close\",\n",
    "                                                          aggfunc=np.max)\n",
    "adj_close_pivot.reset_index(inplace=True)\n",
    "adj_close_pivot_merge = pd.merge(adj_close_pivot, adj_close, on=[\"Ticker\", \"Adj Close\"])\n",
    "merge_folio_sp_lat_YTD_sp_close_high = pd.merge(merge_folio_sp_lat_YTD_sp,\n",
    "                                       adj_close_pivot_merge,\n",
    "                                       on=[\"Ticker\", \"Acquisition Date\"])\n",
    "merge_folio_sp_lat_YTD_sp_close_high.rename(columns={\"Adj Close\": \"Closing High Adj Close\",\n",
    "                                                     \"Date\": \"Closing High Adj Close Date\"}, inplace=True)\n",
    "merge_folio_sp_lat_YTD_sp_close_high[\"Pct off High\"] = merge_folio_sp_lat_YTD_sp_close_high[\"Ticker Adj Close\"] / \\\n",
    "                                                       merge_folio_sp_lat_YTD_sp_close_high[\"Closing High Adj Close\"] - 1\n",
    "\n",
    "trace_one = go.Bar(x=merge_folio_sp_lat_YTD_sp_close_high[\"Ticker\"][0:10],\n",
    "                   y=merge_folio_sp_lat_YTD_sp_close_high[\"Stock Gain / Loss\"][0:10],\n",
    "                   name=\"Ticker Total Return ($)\")\n",
    "trace_two = go.Bar(x=merge_folio_sp_lat_YTD_sp_close_high[\"Ticker\"][0:10],\n",
    "                   y=merge_folio_sp_lat_YTD_sp_close_high[\"SP 500 Gain / Loss\"][0:10],\n",
    "                   name=\"SP 500 Total Return ($)\")\n",
    "trace_three = go.Scatter(x=merge_folio_sp_lat_YTD_sp_close_high[\"Ticker\"][0:10],\n",
    "                         y=merge_folio_sp_lat_YTD_sp_close_high[\"ticker return\"][0:10],\n",
    "                         name=\"Ticker Total Return %\", yaxis=\"y2\")\n",
    "data = [trace_one, trace_two, trace_three]\n",
    "layout = go.Layout(title=\"Gain / Loss -- Total Return vs S&P 500\",\n",
    "                   barmode=\"group\",\n",
    "                   yaxis=dict(title=\"Gain / Loss ($)\"),\n",
    "                   yaxis2=dict(title=\"Ticker Return\", overlaying=\"y\",\n",
    "                               side=\"right\", tickformat=\".2%\"),\n",
    "                   xaxis=dict(title=\"Ticker\"),\n",
    "                   legend=dict(x=.75, y=1))\n",
    "fig = go.Figure(data=data, layout=layout)"
   ]
  },
  {
   "cell_type": "code",
   "execution_count": 2,
   "metadata": {},
   "outputs": [
    {
     "data": {
      "application/vnd.plotly.v1+json": {
       "config": {
        "linkText": "Export to plot.ly",
        "plotlyServerURL": "https://plot.ly",
        "showLink": false
       },
       "data": [
        {
         "name": "Ticker Total Return ($)",
         "type": "bar",
         "x": [
          "AAPL",
          "FB",
          "JNJ",
          "MCD",
          "MTCH",
          "NFLX",
          "TWTR",
          "WMT"
         ],
         "y": [
          13900,
          19786.5,
          4744.999999999999,
          6747,
          17400,
          16704.75,
          -231.7500000000009,
          2243.75
         ]
        },
        {
         "name": "SP 500 Total Return ($)",
         "type": "bar",
         "x": [
          "AAPL",
          "FB",
          "JNJ",
          "MCD",
          "MTCH",
          "NFLX",
          "TWTR",
          "WMT"
         ],
         "y": [
          6917.328523443247,
          4555.78571750445,
          4117.680190261503,
          6018.193069671075,
          3092.645746164574,
          3668.5467429650753,
          3103.0749314553277,
          5578.129839384357
         ]
        },
        {
         "name": "Ticker Total Return %",
         "type": "scatter",
         "x": [
          "AAPL",
          "FB",
          "JNJ",
          "MCD",
          "MTCH",
          "NFLX",
          "TWTR",
          "WMT"
         ],
         "y": [
          1.7003058103975532,
          2.4739309827456863,
          0.5793650793650791,
          0.7938581009530534,
          2.127659574468085,
          2.048845552387085,
          -0.02831225948323257,
          0.26281112737920953
         ],
         "yaxis": "y2"
        }
       ],
       "layout": {
        "barmode": "group",
        "legend": {
         "x": 0.75,
         "y": 1
        },
        "template": {
         "data": {
          "bar": [
           {
            "error_x": {
             "color": "#2a3f5f"
            },
            "error_y": {
             "color": "#2a3f5f"
            },
            "marker": {
             "line": {
              "color": "#E5ECF6",
              "width": 0.5
             }
            },
            "type": "bar"
           }
          ],
          "barpolar": [
           {
            "marker": {
             "line": {
              "color": "#E5ECF6",
              "width": 0.5
             }
            },
            "type": "barpolar"
           }
          ],
          "carpet": [
           {
            "aaxis": {
             "endlinecolor": "#2a3f5f",
             "gridcolor": "white",
             "linecolor": "white",
             "minorgridcolor": "white",
             "startlinecolor": "#2a3f5f"
            },
            "baxis": {
             "endlinecolor": "#2a3f5f",
             "gridcolor": "white",
             "linecolor": "white",
             "minorgridcolor": "white",
             "startlinecolor": "#2a3f5f"
            },
            "type": "carpet"
           }
          ],
          "choropleth": [
           {
            "colorbar": {
             "outlinewidth": 0,
             "ticks": ""
            },
            "type": "choropleth"
           }
          ],
          "contour": [
           {
            "colorbar": {
             "outlinewidth": 0,
             "ticks": ""
            },
            "colorscale": [
             [
              0,
              "#0d0887"
             ],
             [
              0.1111111111111111,
              "#46039f"
             ],
             [
              0.2222222222222222,
              "#7201a8"
             ],
             [
              0.3333333333333333,
              "#9c179e"
             ],
             [
              0.4444444444444444,
              "#bd3786"
             ],
             [
              0.5555555555555556,
              "#d8576b"
             ],
             [
              0.6666666666666666,
              "#ed7953"
             ],
             [
              0.7777777777777778,
              "#fb9f3a"
             ],
             [
              0.8888888888888888,
              "#fdca26"
             ],
             [
              1,
              "#f0f921"
             ]
            ],
            "type": "contour"
           }
          ],
          "contourcarpet": [
           {
            "colorbar": {
             "outlinewidth": 0,
             "ticks": ""
            },
            "type": "contourcarpet"
           }
          ],
          "heatmap": [
           {
            "colorbar": {
             "outlinewidth": 0,
             "ticks": ""
            },
            "colorscale": [
             [
              0,
              "#0d0887"
             ],
             [
              0.1111111111111111,
              "#46039f"
             ],
             [
              0.2222222222222222,
              "#7201a8"
             ],
             [
              0.3333333333333333,
              "#9c179e"
             ],
             [
              0.4444444444444444,
              "#bd3786"
             ],
             [
              0.5555555555555556,
              "#d8576b"
             ],
             [
              0.6666666666666666,
              "#ed7953"
             ],
             [
              0.7777777777777778,
              "#fb9f3a"
             ],
             [
              0.8888888888888888,
              "#fdca26"
             ],
             [
              1,
              "#f0f921"
             ]
            ],
            "type": "heatmap"
           }
          ],
          "heatmapgl": [
           {
            "colorbar": {
             "outlinewidth": 0,
             "ticks": ""
            },
            "colorscale": [
             [
              0,
              "#0d0887"
             ],
             [
              0.1111111111111111,
              "#46039f"
             ],
             [
              0.2222222222222222,
              "#7201a8"
             ],
             [
              0.3333333333333333,
              "#9c179e"
             ],
             [
              0.4444444444444444,
              "#bd3786"
             ],
             [
              0.5555555555555556,
              "#d8576b"
             ],
             [
              0.6666666666666666,
              "#ed7953"
             ],
             [
              0.7777777777777778,
              "#fb9f3a"
             ],
             [
              0.8888888888888888,
              "#fdca26"
             ],
             [
              1,
              "#f0f921"
             ]
            ],
            "type": "heatmapgl"
           }
          ],
          "histogram": [
           {
            "marker": {
             "colorbar": {
              "outlinewidth": 0,
              "ticks": ""
             }
            },
            "type": "histogram"
           }
          ],
          "histogram2d": [
           {
            "colorbar": {
             "outlinewidth": 0,
             "ticks": ""
            },
            "colorscale": [
             [
              0,
              "#0d0887"
             ],
             [
              0.1111111111111111,
              "#46039f"
             ],
             [
              0.2222222222222222,
              "#7201a8"
             ],
             [
              0.3333333333333333,
              "#9c179e"
             ],
             [
              0.4444444444444444,
              "#bd3786"
             ],
             [
              0.5555555555555556,
              "#d8576b"
             ],
             [
              0.6666666666666666,
              "#ed7953"
             ],
             [
              0.7777777777777778,
              "#fb9f3a"
             ],
             [
              0.8888888888888888,
              "#fdca26"
             ],
             [
              1,
              "#f0f921"
             ]
            ],
            "type": "histogram2d"
           }
          ],
          "histogram2dcontour": [
           {
            "colorbar": {
             "outlinewidth": 0,
             "ticks": ""
            },
            "colorscale": [
             [
              0,
              "#0d0887"
             ],
             [
              0.1111111111111111,
              "#46039f"
             ],
             [
              0.2222222222222222,
              "#7201a8"
             ],
             [
              0.3333333333333333,
              "#9c179e"
             ],
             [
              0.4444444444444444,
              "#bd3786"
             ],
             [
              0.5555555555555556,
              "#d8576b"
             ],
             [
              0.6666666666666666,
              "#ed7953"
             ],
             [
              0.7777777777777778,
              "#fb9f3a"
             ],
             [
              0.8888888888888888,
              "#fdca26"
             ],
             [
              1,
              "#f0f921"
             ]
            ],
            "type": "histogram2dcontour"
           }
          ],
          "mesh3d": [
           {
            "colorbar": {
             "outlinewidth": 0,
             "ticks": ""
            },
            "type": "mesh3d"
           }
          ],
          "parcoords": [
           {
            "line": {
             "colorbar": {
              "outlinewidth": 0,
              "ticks": ""
             }
            },
            "type": "parcoords"
           }
          ],
          "scatter": [
           {
            "marker": {
             "colorbar": {
              "outlinewidth": 0,
              "ticks": ""
             }
            },
            "type": "scatter"
           }
          ],
          "scatter3d": [
           {
            "line": {
             "colorbar": {
              "outlinewidth": 0,
              "ticks": ""
             }
            },
            "marker": {
             "colorbar": {
              "outlinewidth": 0,
              "ticks": ""
             }
            },
            "type": "scatter3d"
           }
          ],
          "scattercarpet": [
           {
            "marker": {
             "colorbar": {
              "outlinewidth": 0,
              "ticks": ""
             }
            },
            "type": "scattercarpet"
           }
          ],
          "scattergeo": [
           {
            "marker": {
             "colorbar": {
              "outlinewidth": 0,
              "ticks": ""
             }
            },
            "type": "scattergeo"
           }
          ],
          "scattergl": [
           {
            "marker": {
             "colorbar": {
              "outlinewidth": 0,
              "ticks": ""
             }
            },
            "type": "scattergl"
           }
          ],
          "scattermapbox": [
           {
            "marker": {
             "colorbar": {
              "outlinewidth": 0,
              "ticks": ""
             }
            },
            "type": "scattermapbox"
           }
          ],
          "scatterpolar": [
           {
            "marker": {
             "colorbar": {
              "outlinewidth": 0,
              "ticks": ""
             }
            },
            "type": "scatterpolar"
           }
          ],
          "scatterpolargl": [
           {
            "marker": {
             "colorbar": {
              "outlinewidth": 0,
              "ticks": ""
             }
            },
            "type": "scatterpolargl"
           }
          ],
          "scatterternary": [
           {
            "marker": {
             "colorbar": {
              "outlinewidth": 0,
              "ticks": ""
             }
            },
            "type": "scatterternary"
           }
          ],
          "surface": [
           {
            "colorbar": {
             "outlinewidth": 0,
             "ticks": ""
            },
            "colorscale": [
             [
              0,
              "#0d0887"
             ],
             [
              0.1111111111111111,
              "#46039f"
             ],
             [
              0.2222222222222222,
              "#7201a8"
             ],
             [
              0.3333333333333333,
              "#9c179e"
             ],
             [
              0.4444444444444444,
              "#bd3786"
             ],
             [
              0.5555555555555556,
              "#d8576b"
             ],
             [
              0.6666666666666666,
              "#ed7953"
             ],
             [
              0.7777777777777778,
              "#fb9f3a"
             ],
             [
              0.8888888888888888,
              "#fdca26"
             ],
             [
              1,
              "#f0f921"
             ]
            ],
            "type": "surface"
           }
          ],
          "table": [
           {
            "cells": {
             "fill": {
              "color": "#EBF0F8"
             },
             "line": {
              "color": "white"
             }
            },
            "header": {
             "fill": {
              "color": "#C8D4E3"
             },
             "line": {
              "color": "white"
             }
            },
            "type": "table"
           }
          ]
         },
         "layout": {
          "annotationdefaults": {
           "arrowcolor": "#2a3f5f",
           "arrowhead": 0,
           "arrowwidth": 1
          },
          "colorscale": {
           "diverging": [
            [
             0,
             "#8e0152"
            ],
            [
             0.1,
             "#c51b7d"
            ],
            [
             0.2,
             "#de77ae"
            ],
            [
             0.3,
             "#f1b6da"
            ],
            [
             0.4,
             "#fde0ef"
            ],
            [
             0.5,
             "#f7f7f7"
            ],
            [
             0.6,
             "#e6f5d0"
            ],
            [
             0.7,
             "#b8e186"
            ],
            [
             0.8,
             "#7fbc41"
            ],
            [
             0.9,
             "#4d9221"
            ],
            [
             1,
             "#276419"
            ]
           ],
           "sequential": [
            [
             0,
             "#0d0887"
            ],
            [
             0.1111111111111111,
             "#46039f"
            ],
            [
             0.2222222222222222,
             "#7201a8"
            ],
            [
             0.3333333333333333,
             "#9c179e"
            ],
            [
             0.4444444444444444,
             "#bd3786"
            ],
            [
             0.5555555555555556,
             "#d8576b"
            ],
            [
             0.6666666666666666,
             "#ed7953"
            ],
            [
             0.7777777777777778,
             "#fb9f3a"
            ],
            [
             0.8888888888888888,
             "#fdca26"
            ],
            [
             1,
             "#f0f921"
            ]
           ],
           "sequentialminus": [
            [
             0,
             "#0d0887"
            ],
            [
             0.1111111111111111,
             "#46039f"
            ],
            [
             0.2222222222222222,
             "#7201a8"
            ],
            [
             0.3333333333333333,
             "#9c179e"
            ],
            [
             0.4444444444444444,
             "#bd3786"
            ],
            [
             0.5555555555555556,
             "#d8576b"
            ],
            [
             0.6666666666666666,
             "#ed7953"
            ],
            [
             0.7777777777777778,
             "#fb9f3a"
            ],
            [
             0.8888888888888888,
             "#fdca26"
            ],
            [
             1,
             "#f0f921"
            ]
           ]
          },
          "colorway": [
           "#636efa",
           "#EF553B",
           "#00cc96",
           "#ab63fa",
           "#FFA15A",
           "#19d3f3",
           "#FF6692",
           "#B6E880",
           "#FF97FF",
           "#FECB52"
          ],
          "font": {
           "color": "#2a3f5f"
          },
          "geo": {
           "bgcolor": "white",
           "lakecolor": "white",
           "landcolor": "#E5ECF6",
           "showlakes": true,
           "showland": true,
           "subunitcolor": "white"
          },
          "hoverlabel": {
           "align": "left"
          },
          "hovermode": "closest",
          "mapbox": {
           "style": "light"
          },
          "paper_bgcolor": "white",
          "plot_bgcolor": "#E5ECF6",
          "polar": {
           "angularaxis": {
            "gridcolor": "white",
            "linecolor": "white",
            "ticks": ""
           },
           "bgcolor": "#E5ECF6",
           "radialaxis": {
            "gridcolor": "white",
            "linecolor": "white",
            "ticks": ""
           }
          },
          "scene": {
           "xaxis": {
            "backgroundcolor": "#E5ECF6",
            "gridcolor": "white",
            "gridwidth": 2,
            "linecolor": "white",
            "showbackground": true,
            "ticks": "",
            "zerolinecolor": "white"
           },
           "yaxis": {
            "backgroundcolor": "#E5ECF6",
            "gridcolor": "white",
            "gridwidth": 2,
            "linecolor": "white",
            "showbackground": true,
            "ticks": "",
            "zerolinecolor": "white"
           },
           "zaxis": {
            "backgroundcolor": "#E5ECF6",
            "gridcolor": "white",
            "gridwidth": 2,
            "linecolor": "white",
            "showbackground": true,
            "ticks": "",
            "zerolinecolor": "white"
           }
          },
          "shapedefaults": {
           "line": {
            "color": "#2a3f5f"
           }
          },
          "ternary": {
           "aaxis": {
            "gridcolor": "white",
            "linecolor": "white",
            "ticks": ""
           },
           "baxis": {
            "gridcolor": "white",
            "linecolor": "white",
            "ticks": ""
           },
           "bgcolor": "#E5ECF6",
           "caxis": {
            "gridcolor": "white",
            "linecolor": "white",
            "ticks": ""
           }
          },
          "title": {
           "x": 0.05
          },
          "xaxis": {
           "automargin": true,
           "gridcolor": "white",
           "linecolor": "white",
           "ticks": "",
           "zerolinecolor": "white",
           "zerolinewidth": 2
          },
          "yaxis": {
           "automargin": true,
           "gridcolor": "white",
           "linecolor": "white",
           "ticks": "",
           "zerolinecolor": "white",
           "zerolinewidth": 2
          }
         }
        },
        "title": {
         "text": "Gain / Loss -- Total Return vs S&P 500"
        },
        "xaxis": {
         "title": {
          "text": "Ticker"
         }
        },
        "yaxis": {
         "title": {
          "text": "Gain / Loss ($)"
         }
        },
        "yaxis2": {
         "overlaying": "y",
         "side": "right",
         "tickformat": ".2%",
         "title": {
          "text": "Ticker Return"
         }
        }
       }
      },
      "text/html": [
       "<div>\n",
       "        \n",
       "        \n",
       "            <div id=\"2419f76f-7c99-4faf-9f38-bb94ed0a673e\" class=\"plotly-graph-div\" style=\"height:525px; width:100%;\"></div>\n",
       "            <script type=\"text/javascript\">\n",
       "                require([\"plotly\"], function(Plotly) {\n",
       "                    window.PLOTLYENV=window.PLOTLYENV || {};\n",
       "                    \n",
       "                if (document.getElementById(\"2419f76f-7c99-4faf-9f38-bb94ed0a673e\")) {\n",
       "                    Plotly.newPlot(\n",
       "                        '2419f76f-7c99-4faf-9f38-bb94ed0a673e',\n",
       "                        [{\"name\": \"Ticker Total Return ($)\", \"type\": \"bar\", \"x\": [\"AAPL\", \"FB\", \"JNJ\", \"MCD\", \"MTCH\", \"NFLX\", \"TWTR\", \"WMT\"], \"y\": [13900.0, 19786.5, 4744.999999999999, 6747.0, 17400.0, 16704.75, -231.7500000000009, 2243.75]}, {\"name\": \"SP 500 Total Return ($)\", \"type\": \"bar\", \"x\": [\"AAPL\", \"FB\", \"JNJ\", \"MCD\", \"MTCH\", \"NFLX\", \"TWTR\", \"WMT\"], \"y\": [6917.328523443247, 4555.78571750445, 4117.680190261503, 6018.193069671075, 3092.645746164574, 3668.5467429650753, 3103.0749314553277, 5578.129839384357]}, {\"name\": \"Ticker Total Return %\", \"type\": \"scatter\", \"x\": [\"AAPL\", \"FB\", \"JNJ\", \"MCD\", \"MTCH\", \"NFLX\", \"TWTR\", \"WMT\"], \"y\": [1.7003058103975532, 2.4739309827456863, 0.5793650793650791, 0.7938581009530534, 2.127659574468085, 2.048845552387085, -0.02831225948323257, 0.26281112737920953], \"yaxis\": \"y2\"}],\n",
       "                        {\"barmode\": \"group\", \"legend\": {\"x\": 0.75, \"y\": 1}, \"template\": {\"data\": {\"bar\": [{\"error_x\": {\"color\": \"#2a3f5f\"}, \"error_y\": {\"color\": \"#2a3f5f\"}, \"marker\": {\"line\": {\"color\": \"#E5ECF6\", \"width\": 0.5}}, \"type\": \"bar\"}], \"barpolar\": [{\"marker\": {\"line\": {\"color\": \"#E5ECF6\", \"width\": 0.5}}, \"type\": \"barpolar\"}], \"carpet\": [{\"aaxis\": {\"endlinecolor\": \"#2a3f5f\", \"gridcolor\": \"white\", \"linecolor\": \"white\", \"minorgridcolor\": \"white\", \"startlinecolor\": \"#2a3f5f\"}, \"baxis\": {\"endlinecolor\": \"#2a3f5f\", \"gridcolor\": \"white\", \"linecolor\": \"white\", \"minorgridcolor\": \"white\", \"startlinecolor\": \"#2a3f5f\"}, \"type\": \"carpet\"}], \"choropleth\": [{\"colorbar\": {\"outlinewidth\": 0, \"ticks\": \"\"}, \"type\": \"choropleth\"}], \"contour\": [{\"colorbar\": {\"outlinewidth\": 0, \"ticks\": \"\"}, \"colorscale\": [[0.0, \"#0d0887\"], [0.1111111111111111, \"#46039f\"], [0.2222222222222222, \"#7201a8\"], [0.3333333333333333, \"#9c179e\"], [0.4444444444444444, \"#bd3786\"], [0.5555555555555556, \"#d8576b\"], [0.6666666666666666, \"#ed7953\"], [0.7777777777777778, \"#fb9f3a\"], [0.8888888888888888, \"#fdca26\"], [1.0, \"#f0f921\"]], \"type\": \"contour\"}], \"contourcarpet\": [{\"colorbar\": {\"outlinewidth\": 0, \"ticks\": \"\"}, \"type\": \"contourcarpet\"}], \"heatmap\": [{\"colorbar\": {\"outlinewidth\": 0, \"ticks\": \"\"}, \"colorscale\": [[0.0, \"#0d0887\"], [0.1111111111111111, \"#46039f\"], [0.2222222222222222, \"#7201a8\"], [0.3333333333333333, \"#9c179e\"], [0.4444444444444444, \"#bd3786\"], [0.5555555555555556, \"#d8576b\"], [0.6666666666666666, \"#ed7953\"], [0.7777777777777778, \"#fb9f3a\"], [0.8888888888888888, \"#fdca26\"], [1.0, \"#f0f921\"]], \"type\": \"heatmap\"}], \"heatmapgl\": [{\"colorbar\": {\"outlinewidth\": 0, \"ticks\": \"\"}, \"colorscale\": [[0.0, \"#0d0887\"], [0.1111111111111111, \"#46039f\"], [0.2222222222222222, \"#7201a8\"], [0.3333333333333333, \"#9c179e\"], [0.4444444444444444, \"#bd3786\"], [0.5555555555555556, \"#d8576b\"], [0.6666666666666666, \"#ed7953\"], [0.7777777777777778, \"#fb9f3a\"], [0.8888888888888888, \"#fdca26\"], [1.0, \"#f0f921\"]], \"type\": \"heatmapgl\"}], \"histogram\": [{\"marker\": {\"colorbar\": {\"outlinewidth\": 0, \"ticks\": \"\"}}, \"type\": \"histogram\"}], \"histogram2d\": [{\"colorbar\": {\"outlinewidth\": 0, \"ticks\": \"\"}, \"colorscale\": [[0.0, \"#0d0887\"], [0.1111111111111111, \"#46039f\"], [0.2222222222222222, \"#7201a8\"], [0.3333333333333333, \"#9c179e\"], [0.4444444444444444, \"#bd3786\"], [0.5555555555555556, \"#d8576b\"], [0.6666666666666666, \"#ed7953\"], [0.7777777777777778, \"#fb9f3a\"], [0.8888888888888888, \"#fdca26\"], [1.0, \"#f0f921\"]], \"type\": \"histogram2d\"}], \"histogram2dcontour\": [{\"colorbar\": {\"outlinewidth\": 0, \"ticks\": \"\"}, \"colorscale\": [[0.0, \"#0d0887\"], [0.1111111111111111, \"#46039f\"], [0.2222222222222222, \"#7201a8\"], [0.3333333333333333, \"#9c179e\"], [0.4444444444444444, \"#bd3786\"], [0.5555555555555556, \"#d8576b\"], [0.6666666666666666, \"#ed7953\"], [0.7777777777777778, \"#fb9f3a\"], [0.8888888888888888, \"#fdca26\"], [1.0, \"#f0f921\"]], \"type\": \"histogram2dcontour\"}], \"mesh3d\": [{\"colorbar\": {\"outlinewidth\": 0, \"ticks\": \"\"}, \"type\": \"mesh3d\"}], \"parcoords\": [{\"line\": {\"colorbar\": {\"outlinewidth\": 0, \"ticks\": \"\"}}, \"type\": \"parcoords\"}], \"scatter\": [{\"marker\": {\"colorbar\": {\"outlinewidth\": 0, \"ticks\": \"\"}}, \"type\": \"scatter\"}], \"scatter3d\": [{\"line\": {\"colorbar\": {\"outlinewidth\": 0, \"ticks\": \"\"}}, \"marker\": {\"colorbar\": {\"outlinewidth\": 0, \"ticks\": \"\"}}, \"type\": \"scatter3d\"}], \"scattercarpet\": [{\"marker\": {\"colorbar\": {\"outlinewidth\": 0, \"ticks\": \"\"}}, \"type\": \"scattercarpet\"}], \"scattergeo\": [{\"marker\": {\"colorbar\": {\"outlinewidth\": 0, \"ticks\": \"\"}}, \"type\": \"scattergeo\"}], \"scattergl\": [{\"marker\": {\"colorbar\": {\"outlinewidth\": 0, \"ticks\": \"\"}}, \"type\": \"scattergl\"}], \"scattermapbox\": [{\"marker\": {\"colorbar\": {\"outlinewidth\": 0, \"ticks\": \"\"}}, \"type\": \"scattermapbox\"}], \"scatterpolar\": [{\"marker\": {\"colorbar\": {\"outlinewidth\": 0, \"ticks\": \"\"}}, \"type\": \"scatterpolar\"}], \"scatterpolargl\": [{\"marker\": {\"colorbar\": {\"outlinewidth\": 0, \"ticks\": \"\"}}, \"type\": \"scatterpolargl\"}], \"scatterternary\": [{\"marker\": {\"colorbar\": {\"outlinewidth\": 0, \"ticks\": \"\"}}, \"type\": \"scatterternary\"}], \"surface\": [{\"colorbar\": {\"outlinewidth\": 0, \"ticks\": \"\"}, \"colorscale\": [[0.0, \"#0d0887\"], [0.1111111111111111, \"#46039f\"], [0.2222222222222222, \"#7201a8\"], [0.3333333333333333, \"#9c179e\"], [0.4444444444444444, \"#bd3786\"], [0.5555555555555556, \"#d8576b\"], [0.6666666666666666, \"#ed7953\"], [0.7777777777777778, \"#fb9f3a\"], [0.8888888888888888, \"#fdca26\"], [1.0, \"#f0f921\"]], \"type\": \"surface\"}], \"table\": [{\"cells\": {\"fill\": {\"color\": \"#EBF0F8\"}, \"line\": {\"color\": \"white\"}}, \"header\": {\"fill\": {\"color\": \"#C8D4E3\"}, \"line\": {\"color\": \"white\"}}, \"type\": \"table\"}]}, \"layout\": {\"annotationdefaults\": {\"arrowcolor\": \"#2a3f5f\", \"arrowhead\": 0, \"arrowwidth\": 1}, \"colorscale\": {\"diverging\": [[0, \"#8e0152\"], [0.1, \"#c51b7d\"], [0.2, \"#de77ae\"], [0.3, \"#f1b6da\"], [0.4, \"#fde0ef\"], [0.5, \"#f7f7f7\"], [0.6, \"#e6f5d0\"], [0.7, \"#b8e186\"], [0.8, \"#7fbc41\"], [0.9, \"#4d9221\"], [1, \"#276419\"]], \"sequential\": [[0.0, \"#0d0887\"], [0.1111111111111111, \"#46039f\"], [0.2222222222222222, \"#7201a8\"], [0.3333333333333333, \"#9c179e\"], [0.4444444444444444, \"#bd3786\"], [0.5555555555555556, \"#d8576b\"], [0.6666666666666666, \"#ed7953\"], [0.7777777777777778, \"#fb9f3a\"], [0.8888888888888888, \"#fdca26\"], [1.0, \"#f0f921\"]], \"sequentialminus\": [[0.0, \"#0d0887\"], [0.1111111111111111, \"#46039f\"], [0.2222222222222222, \"#7201a8\"], [0.3333333333333333, \"#9c179e\"], [0.4444444444444444, \"#bd3786\"], [0.5555555555555556, \"#d8576b\"], [0.6666666666666666, \"#ed7953\"], [0.7777777777777778, \"#fb9f3a\"], [0.8888888888888888, \"#fdca26\"], [1.0, \"#f0f921\"]]}, \"colorway\": [\"#636efa\", \"#EF553B\", \"#00cc96\", \"#ab63fa\", \"#FFA15A\", \"#19d3f3\", \"#FF6692\", \"#B6E880\", \"#FF97FF\", \"#FECB52\"], \"font\": {\"color\": \"#2a3f5f\"}, \"geo\": {\"bgcolor\": \"white\", \"lakecolor\": \"white\", \"landcolor\": \"#E5ECF6\", \"showlakes\": true, \"showland\": true, \"subunitcolor\": \"white\"}, \"hoverlabel\": {\"align\": \"left\"}, \"hovermode\": \"closest\", \"mapbox\": {\"style\": \"light\"}, \"paper_bgcolor\": \"white\", \"plot_bgcolor\": \"#E5ECF6\", \"polar\": {\"angularaxis\": {\"gridcolor\": \"white\", \"linecolor\": \"white\", \"ticks\": \"\"}, \"bgcolor\": \"#E5ECF6\", \"radialaxis\": {\"gridcolor\": \"white\", \"linecolor\": \"white\", \"ticks\": \"\"}}, \"scene\": {\"xaxis\": {\"backgroundcolor\": \"#E5ECF6\", \"gridcolor\": \"white\", \"gridwidth\": 2, \"linecolor\": \"white\", \"showbackground\": true, \"ticks\": \"\", \"zerolinecolor\": \"white\"}, \"yaxis\": {\"backgroundcolor\": \"#E5ECF6\", \"gridcolor\": \"white\", \"gridwidth\": 2, \"linecolor\": \"white\", \"showbackground\": true, \"ticks\": \"\", \"zerolinecolor\": \"white\"}, \"zaxis\": {\"backgroundcolor\": \"#E5ECF6\", \"gridcolor\": \"white\", \"gridwidth\": 2, \"linecolor\": \"white\", \"showbackground\": true, \"ticks\": \"\", \"zerolinecolor\": \"white\"}}, \"shapedefaults\": {\"line\": {\"color\": \"#2a3f5f\"}}, \"ternary\": {\"aaxis\": {\"gridcolor\": \"white\", \"linecolor\": \"white\", \"ticks\": \"\"}, \"baxis\": {\"gridcolor\": \"white\", \"linecolor\": \"white\", \"ticks\": \"\"}, \"bgcolor\": \"#E5ECF6\", \"caxis\": {\"gridcolor\": \"white\", \"linecolor\": \"white\", \"ticks\": \"\"}}, \"title\": {\"x\": 0.05}, \"xaxis\": {\"automargin\": true, \"gridcolor\": \"white\", \"linecolor\": \"white\", \"ticks\": \"\", \"zerolinecolor\": \"white\", \"zerolinewidth\": 2}, \"yaxis\": {\"automargin\": true, \"gridcolor\": \"white\", \"linecolor\": \"white\", \"ticks\": \"\", \"zerolinecolor\": \"white\", \"zerolinewidth\": 2}}}, \"title\": {\"text\": \"Gain / Loss -- Total Return vs S&P 500\"}, \"xaxis\": {\"title\": {\"text\": \"Ticker\"}}, \"yaxis\": {\"title\": {\"text\": \"Gain / Loss ($)\"}}, \"yaxis2\": {\"overlaying\": \"y\", \"side\": \"right\", \"tickformat\": \".2%\", \"title\": {\"text\": \"Ticker Return\"}}},\n",
       "                        {\"responsive\": true}\n",
       "                    ).then(function(){\n",
       "                            \n",
       "var gd = document.getElementById('2419f76f-7c99-4faf-9f38-bb94ed0a673e');\n",
       "var x = new MutationObserver(function (mutations, observer) {{\n",
       "        var display = window.getComputedStyle(gd).display;\n",
       "        if (!display || display === 'none') {{\n",
       "            console.log([gd, 'removed!']);\n",
       "            Plotly.purge(gd);\n",
       "            observer.disconnect();\n",
       "        }}\n",
       "}});\n",
       "\n",
       "// Listen for the removal of the full notebook cells\n",
       "var notebookContainer = gd.closest('#notebook-container');\n",
       "if (notebookContainer) {{\n",
       "    x.observe(notebookContainer, {childList: true});\n",
       "}}\n",
       "\n",
       "// Listen for the clearing of the current output cell\n",
       "var outputEl = gd.closest('.output');\n",
       "if (outputEl) {{\n",
       "    x.observe(outputEl, {childList: true});\n",
       "}}\n",
       "\n",
       "                        })\n",
       "                };\n",
       "                });\n",
       "            </script>\n",
       "        </div>"
      ]
     },
     "metadata": {},
     "output_type": "display_data"
    }
   ],
   "source": [
    "iplot(fig)"
   ]
  }
 ],
 "metadata": {
  "kernelspec": {
   "display_name": "Python 3",
   "language": "python",
   "name": "python3"
  },
  "language_info": {
   "codemirror_mode": {
    "name": "ipython",
    "version": 3
   },
   "file_extension": ".py",
   "mimetype": "text/x-python",
   "name": "python",
   "nbconvert_exporter": "python",
   "pygments_lexer": "ipython3",
   "version": "3.7.3"
  }
 },
 "nbformat": 4,
 "nbformat_minor": 2
}
